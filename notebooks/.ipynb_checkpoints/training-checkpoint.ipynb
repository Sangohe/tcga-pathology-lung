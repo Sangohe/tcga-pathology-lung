{
 "cells": [
  {
   "cell_type": "code",
   "execution_count": 1,
   "metadata": {},
   "outputs": [],
   "source": [
    "import os\n",
    "\n",
    "os.environ[\"CUDA_DEVICE_ORDER\"] = \"PCI_BUS_ID\"\n",
    "os.environ[\"CUDA_VISIBLE_DEVICES\"] = \"-1\"\n",
    "os.environ[\"TF_CPP_MIN_LOG_LEVEL\"] = \"3\"\n",
    "\n",
    "import keras\n",
    "import tensorflow as tf\n",
    "\n",
    "import sys\n",
    "import json\n",
    "import importlib\n",
    "from pathlib import Path\n",
    "\n",
    "sys.path.append(\"..\")\n",
    "\n",
    "from losses import DiceCELoss\n",
    "from dataloader import get_dataset\n",
    "from schedulers import WarmUpCosine\n",
    "from models.vanilla import UNetEncoder, UNet, get_skip_names_from_encoder\n",
    "\n",
    "\n",
    "def import_method(method_path: str):\n",
    "    \"\"\"Import a method from a module path.\"\"\"\n",
    "    method_shards = method_path.split(\".\")\n",
    "    method_shards[0] = {\n",
    "        \"np\": \"numpy\",\n",
    "        \"tf\": \"tensorflow\",\n",
    "        \"tfa\": \"tensorflow_addons\",\n",
    "    }.get(method_shards[0], method_shards[0])\n",
    "\n",
    "    module_path = \".\".join(method_shards[:-1])\n",
    "    method_name = method_shards[-1]\n",
    "\n",
    "    module = importlib.import_module(module_path)\n",
    "    return getattr(module, method_name)\n"
   ]
  },
  {
   "attachments": {},
   "cell_type": "markdown",
   "metadata": {},
   "source": [
    "# Experiment configuration"
   ]
  },
  {
   "cell_type": "code",
   "execution_count": 2,
   "metadata": {},
   "outputs": [],
   "source": [
    "config = {\n",
    "    \"experiment_dir\": \"/home/sangohe/projects/pathology/results/TCGA_patches_224_56-fold0-DiceCE\",\n",
    "    \"train_tfrecord_path\": \"/home/sangohe/projects/pathology/data/TCGA_patches_224_56/fold0_train.tfrecord\",\n",
    "    # \"train_tfrecord_path\": \"/data/histopathology/TCGA/tfrecords/TCGA_patches_224_56/fold0_train.tfrecord\",\n",
    "    \"val_tfrecord_path\": \"/home/sangohe/projects/pathology/data/TCGA_patches_224_56/fold0_val.tfrecord\",\n",
    "    # \"val_tfrecord_path\": \"/data/histopathology/TCGA/tfrecords/TCGA_patches_224_56/fold0_val.tfrecord\",\n",
    "    \"epochs\": 100,\n",
    "    \"warmup_epoch_percentage\": 0.1,\n",
    "    \"num_train_samples\": 120_000,\n",
    "    \"dataloader\": {\n",
    "        \"augmentations\": True,\n",
    "        \"filter_non_zero_prob\": 0.8,\n",
    "        \"batch_size\": 32,\n",
    "        \"cache\": False,\n",
    "        \"prefetch\": True,\n",
    "        \"shuffle_size\": 100_000,\n",
    "    },\n",
    "    \"model\": {\n",
    "        \"input_shape\": (224, 224, 3),\n",
    "        \"filters_per_level\": [128, 256, 512, 1024, 1024],\n",
    "        \"activation\": \"relu\",\n",
    "        \"kernel_size\": 3,\n",
    "        \"strides\": 1,\n",
    "        \"dilation_rate\": 1,\n",
    "        \"padding\": \"same\",\n",
    "        \"norm_layer\": \"keras.layers.BatchNormalization\",\n",
    "        \"pooling_layer\": \"keras.layers.MaxPooling2D\",\n",
    "        \"blocks_depth\": [2, 2, 2, 2, 2],\n",
    "        \"dropout_rate\": 0.3,\n",
    "        # UNet specific.\n",
    "        \"num_classes\": 2,\n",
    "        \"out_activation\": \"linear\",  # Because DiceCE loss requires logits.\n",
    "        \"upsample_layer\": \"keras.layers.UpSampling2D\",\n",
    "        \"attention_layer\": \"models.conv_layers.AdditiveCrossAttention\",\n",
    "    },\n",
    "    \"optimizer\": {\n",
    "        \"learning_rate\": 0.001,\n",
    "        \"weight_decay\": 0.004,\n",
    "    },\n",
    "}\n",
    "\n",
    "# write config as a json file.\n",
    "experiment_dir = Path(config[\"experiment_dir\"])\n",
    "experiment_dir.mkdir(parents=True, exist_ok=True)\n",
    "\n",
    "# Create the paths for the config, model weights and training history.\n",
    "config_path = experiment_dir / \"config.json\"\n",
    "logs_path = experiment_dir / \"logs\"\n",
    "weights_path = experiment_dir / \"weights.h5\"\n",
    "json.dump(config, open(str(config_path), \"w\"), indent=4)\n",
    "\n",
    "# After this, convert the strings of layers to the actual layers.\n",
    "for attr in [\"norm_layer\", \"pooling_layer\", \"upsample_layer\", \"attention_layer\"]:\n",
    "    config[\"model\"][attr] = import_method(config[\"model\"][attr])\n"
   ]
  },
  {
   "attachments": {},
   "cell_type": "markdown",
   "metadata": {},
   "source": [
    "# Dataset"
   ]
  },
  {
   "cell_type": "code",
   "execution_count": 3,
   "metadata": {},
   "outputs": [
    {
     "name": "stdout",
     "output_type": "stream",
     "text": [
      "WARNING:tensorflow:Layers in a Sequential model should only have a single input tensor. Received: inputs={'images': <tf.Tensor 'args_0:0' shape=(None, None, None) dtype=float32>, 'segmentation_masks': <tf.Tensor 'Cast:0' shape=(None, None, None) dtype=int64>}. Consider rewriting this model with the Functional API.\n"
     ]
    }
   ],
   "source": [
    "train_dset = get_dataset(config[\"train_tfrecord_path\"], **config[\"dataloader\"])\n",
    "val_dset = get_dataset(\n",
    "    config[\"val_tfrecord_path\"], batch_size=config[\"dataloader\"][\"batch_size\"]\n",
    ")\n"
   ]
  },
  {
   "attachments": {},
   "cell_type": "markdown",
   "metadata": {},
   "source": [
    "# Create the model"
   ]
  },
  {
   "cell_type": "code",
   "execution_count": 4,
   "metadata": {},
   "outputs": [],
   "source": [
    "encoder = UNetEncoder(**config[\"model\"])\n",
    "skip_names = get_skip_names_from_encoder(encoder)\n",
    "model = UNet(encoder, skip_names=skip_names, **config[\"model\"])\n",
    "\n",
    "total_steps = (\n",
    "    int(config[\"num_train_samples\"] / config[\"dataloader\"][\"batch_size\"])\n",
    "    * config[\"epochs\"]\n",
    ")\n",
    "warmup_steps = int(total_steps * config[\"warmup_epoch_percentage\"])\n",
    "scheduled_lrs = WarmUpCosine(\n",
    "    learning_rate_base=config[\"optimizer\"][\"learning_rate\"],\n",
    "    total_steps=total_steps,\n",
    "    warmup_learning_rate=config[\"optimizer\"][\"learning_rate\"],\n",
    "    warmup_steps=warmup_steps,\n",
    ")\n",
    "opt = tf.keras.optimizers.AdamW(scheduled_lrs, config[\"optimizer\"][\"weight_decay\"])\n",
    "\n",
    "model.compile(\n",
    "    opt, loss=DiceCELoss(y_one_hot=True, reduce_batch=True, include_background=False)\n",
    ")\n",
    "model.fit(\n",
    "    train_dset.take(1),\n",
    "    validation_data=val_dset.take(1),\n",
    "    epochs=1,\n",
    "    callbacks=[\n",
    "        keras.callbacks.TensorBoard(logs_path),\n",
    "        keras.callbacks.ModelCheckpoint(\n",
    "            weights_path, save_best_only=True, save_weights_only=True\n",
    "        ),\n",
    "    ],\n",
    "    verbose=1,\n",
    ")\n"
   ]
  },
  {
   "attachments": {},
   "cell_type": "markdown",
   "metadata": {},
   "source": [
    "- [ ] add model and tensorboard callbacks\n",
    "- [ ] add dice score metric\n",
    "- [ ] add lr schedule"
   ]
  }
 ],
 "metadata": {
  "kernelspec": {
   "display_name": "Python 3",
   "language": "python",
   "name": "python3"
  },
  "language_info": {
   "codemirror_mode": {
    "name": "ipython",
    "version": 3
   },
   "file_extension": ".py",
   "mimetype": "text/x-python",
   "name": "python",
   "nbconvert_exporter": "python",
   "pygments_lexer": "ipython3",
   "version": "3.8.10"
  },
  "orig_nbformat": 4
 },
 "nbformat": 4,
 "nbformat_minor": 2
}
