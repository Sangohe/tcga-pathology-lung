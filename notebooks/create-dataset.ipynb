{
 "cells": [
  {
   "cell_type": "code",
   "execution_count": 1,
   "metadata": {},
   "outputs": [
    {
     "name": "stderr",
     "output_type": "stream",
     "text": [
      "2023-07-03 07:35:19.604553: I tensorflow/core/util/port.cc:110] oneDNN custom operations are on. You may see slightly different numerical results due to floating-point round-off errors from different computation orders. To turn them off, set the environment variable `TF_ENABLE_ONEDNN_OPTS=0`.\n",
      "2023-07-03 07:35:19.655870: I tensorflow/core/platform/cpu_feature_guard.cc:182] This TensorFlow binary is optimized to use available CPU instructions in performance-critical operations.\n",
      "To enable the following instructions: AVX2 AVX512F AVX512_VNNI FMA, in other operations, rebuild TensorFlow with the appropriate compiler flags.\n"
     ]
    }
   ],
   "source": [
    "import cv2\n",
    "import numpy as np\n",
    "import pandas as pd\n",
    "import tensorflow as tf\n",
    "from tqdm.notebook import tqdm\n",
    "import matplotlib.pyplot as plt\n",
    "from sklearn.model_selection import KFold\n",
    "\n",
    "from pathlib import Path\n",
    "from typing import Union, List, Optional, Tuple\n"
   ]
  },
  {
   "attachments": {},
   "cell_type": "markdown",
   "metadata": {},
   "source": [
    "# Helper functions"
   ]
  },
  {
   "cell_type": "code",
   "execution_count": 2,
   "metadata": {},
   "outputs": [],
   "source": [
    "def exists(obj):\n",
    "    return obj is not None\n",
    "\n",
    "\n",
    "def write_image(image_path: Union[str, Path], image: np.ndarray):\n",
    "    \"\"\"Writes an RGB image using OpenCV.\"\"\"\n",
    "    if isinstance(image_path, Path):\n",
    "        image_path = str(image_path)\n",
    "    image = cv2.cvtColor(image, cv2.COLOR_RGB2BGR)\n",
    "    image = image.astype(np.uint8) if image.dtype == np.float32 else image\n",
    "    cv2.imwrite(image_path, image)\n",
    "\n",
    "\n",
    "def write_mask(mask_path: Union[str, Path], mask: np.ndarray):\n",
    "    \"\"\"Writes a binary mask using OpenCV.\"\"\"\n",
    "    assert_mask_is_binary(mask)\n",
    "    if isinstance(mask_path, Path):\n",
    "        mask_path = str(mask_path)\n",
    "    mask = mask * 255.0 if mask.max() == 1 else mask\n",
    "    mask = mask.astype(np.uint8) if mask.dtype == np.float32 else mask\n",
    "    cv2.imwrite(mask_path, mask)\n",
    "\n",
    "\n",
    "def read_image(image_path: Union[str, Path]) -> np.ndarray:\n",
    "    \"\"\"Reads an image from a path and converts it to RGB format.\"\"\"\n",
    "    if isinstance(image_path, Path):\n",
    "        image_path = str(image_path)\n",
    "    image = cv2.cvtColor(cv2.imread(image_path), cv2.COLOR_BGR2RGB)\n",
    "    return image.astype(np.float32)\n",
    "\n",
    "\n",
    "def read_mask(mask_path: Union[str, Path]) -> np.ndarray:\n",
    "    \"\"\"Reads a mask from a path and transform it to binary.\"\"\"\n",
    "    if isinstance(mask_path, Path):\n",
    "        mask_path = str(mask_path)\n",
    "    mask = cv2.imread(mask_path, 0)\n",
    "    if mask.max() == 255:\n",
    "        mask = mask / 255.0\n",
    "    assert_mask_is_binary(mask)\n",
    "    return mask.astype(np.float32)\n",
    "\n",
    "\n",
    "def assert_mask_is_binary(mask: np.ndarray):\n",
    "    \"\"\"Counts all the pixels different to zero and one to check if binary.\"\"\"\n",
    "    assert (\n",
    "        np.count_nonzero((mask != 0) & (mask != 1)) == 0\n",
    "    ), f\"Mask is not binary. Unique values: {np.unique(mask)}\"\n",
    "\n",
    "\n",
    "def read_images_grid(\n",
    "    patches_paths: Union[List[str], List[Path]]\n",
    ") -> List[List[np.ndarray]]:\n",
    "    patches = []\n",
    "    for i, patches_paths_row in enumerate(patches_paths):\n",
    "        images_row = []\n",
    "        for j, patch_path in enumerate(patches_paths_row):\n",
    "            image = (\n",
    "                read_image(patch_path)\n",
    "                if exists(patch_path)\n",
    "                else np.zeros((1024, 1024, 3))\n",
    "            )\n",
    "            images_row.append(image)\n",
    "        patches.append(images_row)\n",
    "    return patches\n",
    "\n",
    "\n",
    "def crop_black_frames_from_image(img: np.ndarray) -> np.ndarray:\n",
    "    positions = np.nonzero(img)\n",
    "    top = positions[0].min()\n",
    "    bottom = positions[0].max()\n",
    "    left = positions[1].min()\n",
    "    right = positions[1].max()\n",
    "    return img[top:bottom, left:right]\n",
    "\n",
    "\n",
    "def sort_paths_from_idxs(\n",
    "    patches_paths: Union[List[str], List[Path]]\n",
    ") -> List[List[Union[str, Path]]]:\n",
    "    \"\"\"Creates a grid of paths from a list of paths based on their ids.\"\"\"\n",
    "    if isinstance(patches_paths[0], str):\n",
    "        patches_paths = [Path(patch_path) for patch_path in patches_paths]\n",
    "    idxs = [patch_path.stem.split(\"_\")[-2:] for patch_path in patches_paths]\n",
    "    idxs = [[int(i[0]), int(i[1])] for i in idxs]\n",
    "\n",
    "    # Create the grid.\n",
    "    (y_min, x_min), (y_max, x_max) = np.min(idxs, axis=0), np.max(idxs, axis=0)\n",
    "    sorted_paths, missing_patches_idxs = [], []\n",
    "    for j in range(y_max + 1):\n",
    "        row_paths = []\n",
    "        for i in range(x_max + 1):\n",
    "            if [j, i] not in idxs:\n",
    "                missing_patches_idxs.append([j, i])\n",
    "                row_paths.append(None)\n",
    "            else:\n",
    "                row_paths.append(patches_paths[idxs.index([j, i])])\n",
    "        sorted_paths.append(row_paths)\n",
    "\n",
    "    return sorted_paths, missing_patches_idxs\n",
    "\n",
    "\n",
    "def create_and_save_images_for_sample(\n",
    "    reconstructed_sample_image_path: Union[str, Path],\n",
    "    sample_patches_paths: List[Union[str, Path]],\n",
    "    reconstructed_sample_mask_path: Optional[Union[str, Path]] = None,\n",
    "    sample_mask_path: Optional[Union[str, Path]] = None,\n",
    "):\n",
    "    sorted_sample_patches_paths, _ = sort_paths_from_idxs(sample_patches_paths)\n",
    "    sorted_sample_patches = read_images_grid(sorted_sample_patches_paths)\n",
    "    reconstructed_sample_image = np.vstack(\n",
    "        [np.hstack(row) for row in sorted_sample_patches]\n",
    "    ).astype(np.float32)\n",
    "\n",
    "    # Process the reconstructed image.\n",
    "    reconstructed_sample_image = crop_black_frames_from_image(\n",
    "        reconstructed_sample_image\n",
    "    )\n",
    "    reconstructed_sample_image = reconstructed_sample_image\n",
    "    write_image(str(reconstructed_sample_image_path), reconstructed_sample_image)\n",
    "\n",
    "    # Read and resize mask to cropped reconstructed image.\n",
    "    if exists(sample_mask_path):\n",
    "        sample_mask = read_mask(sample_mask_path)\n",
    "        height, width = reconstructed_sample_image.shape[:2]\n",
    "        resized_sample_mask = cv2.resize(\n",
    "            sample_mask, (width, height), interpolation=cv2.INTER_NEAREST\n",
    "        )\n",
    "        write_mask(str(reconstructed_sample_mask_path), resized_sample_mask)\n"
   ]
  },
  {
   "attachments": {},
   "cell_type": "markdown",
   "metadata": {},
   "source": [
    "# Variables"
   ]
  },
  {
   "cell_type": "code",
   "execution_count": 3,
   "metadata": {},
   "outputs": [
    {
     "name": "stdout",
     "output_type": "stream",
     "text": [
      "Number of samples with masks: 33 \n",
      "\n",
      "Samples ids without masks:\n",
      "- TCGA-99-8028-01Z-00-DX1.23de89b1-67f8-41fb-980a-010ea190d687\n",
      "- TCGA-99-8032-01Z-00-DX1.7380b78f-ea25-43e0-ac90-194b5c6b1432\n",
      "- TCGA-J2-8194-01Z-00-DX1.7700924D-B6AF-46A7-A7D7-B5C17A66C5F7\n",
      "- TCGA-MP-A4TK-01Z-00-DX1.57494698-D9D9-4C04-AAB2-16616CCFDCC9\n",
      "- TCGA-NJ-A55R-01Z-00-DX1.2E2B3642-4E1C-47DB-AF7B-988D586C0986\n"
     ]
    }
   ],
   "source": [
    "dset_dir = Path(\"/data/histopathology/TCGA/\")\n",
    "\n",
    "patches_dir = dset_dir / \"patches\"\n",
    "masks_dir = dset_dir / \"masks\"\n",
    "\n",
    "# In the patches directory are more directories and in the masks directory are png files.\n",
    "patches_dirs = sorted(patches_dir.iterdir())\n",
    "masks_paths = sorted(masks_dir.iterdir())\n",
    "\n",
    "mask_sample_ids = [mask_path.stem[:-5] for mask_path in masks_paths]\n",
    "patches_sample_ids = [patch_dir.name for patch_dir in patches_dirs]\n",
    "test_sample_ids = sorted(list(set(patches_sample_ids).difference(mask_sample_ids)))\n",
    "train_sample_ids = sorted(list(set(patches_sample_ids).intersection(mask_sample_ids)))\n",
    "\n",
    "print(f\"Number of samples with masks: {len(train_sample_ids)} \\n\")\n",
    "print(f\"Samples ids without masks:\", *test_sample_ids, sep=\"\\n- \")\n"
   ]
  },
  {
   "attachments": {},
   "cell_type": "markdown",
   "metadata": {},
   "source": [
    "# Create the dataset"
   ]
  },
  {
   "attachments": {},
   "cell_type": "markdown",
   "metadata": {},
   "source": [
    "## 5Fold: Train and validation"
   ]
  },
  {
   "cell_type": "code",
   "execution_count": 6,
   "metadata": {},
   "outputs": [
    {
     "data": {
      "application/vnd.jupyter.widget-view+json": {
       "model_id": "34faeb5d012b4aa39c616a4ed941f911",
       "version_major": 2,
       "version_minor": 0
      },
      "text/plain": [
       "Creating training images for fold 0:   0%|          | 0/26 [00:00<?, ?it/s]"
      ]
     },
     "metadata": {},
     "output_type": "display_data"
    },
    {
     "data": {
      "application/vnd.jupyter.widget-view+json": {
       "model_id": "3c4b2a0740274ebc935017109f2f4b1a",
       "version_major": 2,
       "version_minor": 0
      },
      "text/plain": [
       "Creating val images for fold 0:   0%|          | 0/7 [00:00<?, ?it/s]"
      ]
     },
     "metadata": {},
     "output_type": "display_data"
    },
    {
     "data": {
      "application/vnd.jupyter.widget-view+json": {
       "model_id": "34ec0e0b7ac446559cb6b1835441f7e4",
       "version_major": 2,
       "version_minor": 0
      },
      "text/plain": [
       "Creating training images for fold 1:   0%|          | 0/26 [00:00<?, ?it/s]"
      ]
     },
     "metadata": {},
     "output_type": "display_data"
    },
    {
     "data": {
      "application/vnd.jupyter.widget-view+json": {
       "model_id": "70182d37e9fb42628aa14b6e9a7b7e8a",
       "version_major": 2,
       "version_minor": 0
      },
      "text/plain": [
       "Creating val images for fold 1:   0%|          | 0/7 [00:00<?, ?it/s]"
      ]
     },
     "metadata": {},
     "output_type": "display_data"
    },
    {
     "data": {
      "application/vnd.jupyter.widget-view+json": {
       "model_id": "a3ae3634cd3a4ca5a6e2a715251b1412",
       "version_major": 2,
       "version_minor": 0
      },
      "text/plain": [
       "Creating training images for fold 2:   0%|          | 0/26 [00:00<?, ?it/s]"
      ]
     },
     "metadata": {},
     "output_type": "display_data"
    },
    {
     "data": {
      "application/vnd.jupyter.widget-view+json": {
       "model_id": "f840be62418b4359af06533ebfa60fcc",
       "version_major": 2,
       "version_minor": 0
      },
      "text/plain": [
       "Creating val images for fold 2:   0%|          | 0/7 [00:00<?, ?it/s]"
      ]
     },
     "metadata": {},
     "output_type": "display_data"
    },
    {
     "data": {
      "application/vnd.jupyter.widget-view+json": {
       "model_id": "2e54bfbf055641e0a3ba609335200a60",
       "version_major": 2,
       "version_minor": 0
      },
      "text/plain": [
       "Creating training images for fold 3:   0%|          | 0/27 [00:00<?, ?it/s]"
      ]
     },
     "metadata": {},
     "output_type": "display_data"
    },
    {
     "data": {
      "application/vnd.jupyter.widget-view+json": {
       "model_id": "66a502e7ebd34400bc25b049874dcf6c",
       "version_major": 2,
       "version_minor": 0
      },
      "text/plain": [
       "Creating val images for fold 3:   0%|          | 0/6 [00:00<?, ?it/s]"
      ]
     },
     "metadata": {},
     "output_type": "display_data"
    },
    {
     "data": {
      "application/vnd.jupyter.widget-view+json": {
       "model_id": "73e58b16564a4d35a6aa6b0853310a0b",
       "version_major": 2,
       "version_minor": 0
      },
      "text/plain": [
       "Creating training images for fold 4:   0%|          | 0/27 [00:00<?, ?it/s]"
      ]
     },
     "metadata": {},
     "output_type": "display_data"
    },
    {
     "data": {
      "application/vnd.jupyter.widget-view+json": {
       "model_id": "fee786c503594a08808e1d227d0098c7",
       "version_major": 2,
       "version_minor": 0
      },
      "text/plain": [
       "Creating val images for fold 4:   0%|          | 0/6 [00:00<?, ?it/s]"
      ]
     },
     "metadata": {},
     "output_type": "display_data"
    }
   ],
   "source": [
    "target_dir = Path(\"/data/histopathology/TCGA/reconstructed\")\n",
    "column_names = [\n",
    "    \"sample_id\",\n",
    "    \"source_patches_dir\",\n",
    "    \"source_mask_path\",\n",
    "    \"target_image_path\",\n",
    "    \"target_mask_path\",\n",
    "]\n",
    "\n",
    "# Do a KFold split to create a validation set.\n",
    "kf = KFold(n_splits=5, shuffle=True, random_state=42)\n",
    "for i, (train_idxs, val_idxs) in enumerate(kf.split(train_sample_ids)):\n",
    "    kfold_train_sample_ids = np.array(train_sample_ids)[train_idxs]\n",
    "    kfold_val_sample_ids = np.array(train_sample_ids)[val_idxs]\n",
    "\n",
    "    fold_dir = target_dir / f\"fold{i}\"\n",
    "    train_dir = fold_dir / \"train\"\n",
    "    train_images_dir = train_dir / \"images\"\n",
    "    train_masks_dir = train_dir / \"masks\"\n",
    "    train_images_dir.mkdir(parents=True, exist_ok=True)\n",
    "    train_masks_dir.mkdir(parents=True, exist_ok=True)\n",
    "    train_fold_dict = {col: [] for col in column_names}\n",
    "    for sample_id in tqdm(\n",
    "        kfold_train_sample_ids, desc=f\"Creating training images for fold {i}\"\n",
    "    ):\n",
    "        # Read the sources patches and masks.\n",
    "        sample_patches_paths = sorted((patches_dir / sample_id).iterdir())\n",
    "        sample_mask_path = masks_dir / f\"{sample_id}_mask.png\"\n",
    "\n",
    "        # Create the reconstructed images and masks.\n",
    "        reconstructed_sample_image_path = (\n",
    "            train_images_dir / f\"{sample_id}_reconstructed.png\"\n",
    "        )\n",
    "        reconstructed_sample_mask_path = (\n",
    "            train_masks_dir / f\"{sample_id}_reconstructed.png\"\n",
    "        )\n",
    "        create_and_save_images_for_sample(\n",
    "            reconstructed_sample_image_path,\n",
    "            sample_patches_paths,\n",
    "            reconstructed_sample_mask_path,\n",
    "            sample_mask_path,\n",
    "        )\n",
    "\n",
    "        # Append to the fold dict.\n",
    "        train_fold_dict[\"sample_id\"].append(sample_id)\n",
    "        train_fold_dict[\"source_patches_dir\"].append(str(patches_dir / sample_id))\n",
    "        train_fold_dict[\"source_mask_path\"].append(str(sample_mask_path))\n",
    "        train_fold_dict[\"target_image_path\"].append(\n",
    "            str(reconstructed_sample_image_path)\n",
    "        )\n",
    "        train_fold_dict[\"target_mask_path\"].append(str(reconstructed_sample_mask_path))\n",
    "\n",
    "    # Save the fold dicts as csv files.\n",
    "    train_fold_df = pd.DataFrame(train_fold_dict)\n",
    "    train_fold_df.to_csv(fold_dir / \"train.csv\", index=False)\n",
    "\n",
    "    val_dir = fold_dir / \"val\"\n",
    "    val_images_dir = val_dir / \"images\"\n",
    "    val_masks_dir = val_dir / \"masks\"\n",
    "    val_images_dir.mkdir(parents=True, exist_ok=True)\n",
    "    val_masks_dir.mkdir(parents=True, exist_ok=True)\n",
    "    val_fold_dict = {col: [] for col in column_names}\n",
    "    for sample_id in tqdm(\n",
    "        kfold_val_sample_ids, desc=f\"Creating val images for fold {i}\"\n",
    "    ):\n",
    "        # Read the sources patches and masks.\n",
    "        sample_patches_paths = sorted((patches_dir / sample_id).iterdir())\n",
    "        sample_mask_path = masks_dir / f\"{sample_id}_mask.png\"\n",
    "\n",
    "        # Create the reconstructed images and masks.\n",
    "        reconstructed_sample_image_path = (\n",
    "            val_images_dir / f\"{sample_id}_reconstructed.png\"\n",
    "        )\n",
    "        reconstructed_sample_mask_path = (\n",
    "            val_masks_dir / f\"{sample_id}_reconstructed.png\"\n",
    "        )\n",
    "        create_and_save_images_for_sample(\n",
    "            reconstructed_sample_image_path,\n",
    "            sample_patches_paths,\n",
    "            reconstructed_sample_mask_path,\n",
    "            sample_mask_path,\n",
    "        )\n",
    "\n",
    "        # Append to the fold dict.\n",
    "        val_fold_dict[\"sample_id\"].append(sample_id)\n",
    "        val_fold_dict[\"source_patches_dir\"].append(str(patches_dir / sample_id))\n",
    "        val_fold_dict[\"source_mask_path\"].append(str(sample_mask_path))\n",
    "        val_fold_dict[\"target_image_path\"].append(str(reconstructed_sample_image_path))\n",
    "        val_fold_dict[\"target_mask_path\"].append(str(reconstructed_sample_mask_path))\n",
    "\n",
    "    # Save the fold dicts as csv files.\n",
    "    val_fold_df = pd.DataFrame(val_fold_dict)\n",
    "    val_fold_df.to_csv(fold_dir / \"val.csv\", index=False)\n"
   ]
  },
  {
   "attachments": {},
   "cell_type": "markdown",
   "metadata": {},
   "source": [
    "## Patch extraction for training"
   ]
  },
  {
   "attachments": {},
   "cell_type": "markdown",
   "metadata": {},
   "source": [
    "Function to extract patches from a given image"
   ]
  },
  {
   "cell_type": "code",
   "execution_count": 12,
   "metadata": {},
   "outputs": [],
   "source": [
    "def extract_patches(image, patch_size, stride):\n",
    "    patches = []\n",
    "    for i in range(0, image.shape[0] - patch_size + 1, stride):\n",
    "        for j in range(0, image.shape[1] - patch_size + 1, stride):\n",
    "            patch = image[i : i + patch_size, j : j + patch_size]\n",
    "            patches.append(patch)\n",
    "    return patches\n"
   ]
  },
  {
   "attachments": {},
   "cell_type": "markdown",
   "metadata": {},
   "source": [
    "For each fold, extract the patches from the reconstructed images and store them in a new \"patches\" directory"
   ]
  },
  {
   "cell_type": "code",
   "execution_count": 13,
   "metadata": {},
   "outputs": [
    {
     "data": {
      "application/vnd.jupyter.widget-view+json": {
       "model_id": "47f3fcebc1224ac49ea4275547de3010",
       "version_major": 2,
       "version_minor": 0
      },
      "text/plain": [
       "Extracting training patches for fold 0:   0%|          | 0/26 [00:00<?, ?it/s]"
      ]
     },
     "metadata": {},
     "output_type": "display_data"
    },
    {
     "data": {
      "application/vnd.jupyter.widget-view+json": {
       "model_id": "d41d71e5c711412b94a1189b6d823f9c",
       "version_major": 2,
       "version_minor": 0
      },
      "text/plain": [
       "Extracting validation patches for fold 0:   0%|          | 0/7 [00:00<?, ?it/s]"
      ]
     },
     "metadata": {},
     "output_type": "display_data"
    },
    {
     "data": {
      "application/vnd.jupyter.widget-view+json": {
       "model_id": "e848a45f289649d6bd50b2e7c26e45ba",
       "version_major": 2,
       "version_minor": 0
      },
      "text/plain": [
       "Extracting training patches for fold 1:   0%|          | 0/26 [00:00<?, ?it/s]"
      ]
     },
     "metadata": {},
     "output_type": "display_data"
    },
    {
     "data": {
      "application/vnd.jupyter.widget-view+json": {
       "model_id": "283bd5ed2ae643139f4df17eaede35c3",
       "version_major": 2,
       "version_minor": 0
      },
      "text/plain": [
       "Extracting validation patches for fold 1:   0%|          | 0/7 [00:00<?, ?it/s]"
      ]
     },
     "metadata": {},
     "output_type": "display_data"
    },
    {
     "data": {
      "application/vnd.jupyter.widget-view+json": {
       "model_id": "a8350b74d09542abbc36bad1a1ec1235",
       "version_major": 2,
       "version_minor": 0
      },
      "text/plain": [
       "Extracting training patches for fold 2:   0%|          | 0/26 [00:00<?, ?it/s]"
      ]
     },
     "metadata": {},
     "output_type": "display_data"
    },
    {
     "data": {
      "application/vnd.jupyter.widget-view+json": {
       "model_id": "2ad927be34d640cdbc5d1ab8c07ec2f9",
       "version_major": 2,
       "version_minor": 0
      },
      "text/plain": [
       "Extracting validation patches for fold 2:   0%|          | 0/7 [00:00<?, ?it/s]"
      ]
     },
     "metadata": {},
     "output_type": "display_data"
    },
    {
     "data": {
      "application/vnd.jupyter.widget-view+json": {
       "model_id": "8e045d111e474c48b5aea7caabba682d",
       "version_major": 2,
       "version_minor": 0
      },
      "text/plain": [
       "Extracting training patches for fold 3:   0%|          | 0/27 [00:00<?, ?it/s]"
      ]
     },
     "metadata": {},
     "output_type": "display_data"
    },
    {
     "data": {
      "application/vnd.jupyter.widget-view+json": {
       "model_id": "089627425e3043aa8f9d515905b90cb5",
       "version_major": 2,
       "version_minor": 0
      },
      "text/plain": [
       "Extracting validation patches for fold 3:   0%|          | 0/6 [00:00<?, ?it/s]"
      ]
     },
     "metadata": {},
     "output_type": "display_data"
    },
    {
     "data": {
      "application/vnd.jupyter.widget-view+json": {
       "model_id": "cc88555ba5454cc0a3f71ed0e2c93b1f",
       "version_major": 2,
       "version_minor": 0
      },
      "text/plain": [
       "Extracting training patches for fold 4:   0%|          | 0/27 [00:00<?, ?it/s]"
      ]
     },
     "metadata": {},
     "output_type": "display_data"
    },
    {
     "data": {
      "application/vnd.jupyter.widget-view+json": {
       "model_id": "18242075dc334ef18de481087b0822c8",
       "version_major": 2,
       "version_minor": 0
      },
      "text/plain": [
       "Extracting validation patches for fold 4:   0%|          | 0/6 [00:00<?, ?it/s]"
      ]
     },
     "metadata": {},
     "output_type": "display_data"
    }
   ],
   "source": [
    "target_dir = Path(\"/data/histopathology/TCGA/reconstructed\")\n",
    "\n",
    "for i in range(5):\n",
    "    fold_dir = target_dir / f\"fold{i}\"\n",
    "    images_dir = fold_dir / \"train\" / \"images\"\n",
    "    masks_dir = fold_dir / \"train\" / \"masks\"\n",
    "    patches_dir = fold_dir / \"train\" / \"patches\"\n",
    "    image_patches_dir = patches_dir / \"images\"\n",
    "    mask_patches_dir = patches_dir / \"masks\"\n",
    "    image_patches_dir.mkdir(parents=True, exist_ok=True)\n",
    "    mask_patches_dir.mkdir(parents=True, exist_ok=True)\n",
    "\n",
    "    sorted_images = sorted(images_dir.iterdir())\n",
    "    for image_path in tqdm(\n",
    "        sorted_images, desc=f\"Extracting training patches for fold {i}\"\n",
    "    ):\n",
    "        image = read_image(image_path)\n",
    "        mask = read_mask(masks_dir / image_path.name)\n",
    "        image_patches = extract_patches(image, 224, 56)\n",
    "        mask_patches = extract_patches(mask, 224, 56)\n",
    "        for j, (image_patch, mask_patch) in enumerate(zip(image_patches, mask_patches)):\n",
    "            image_patch_path = image_patches_dir / f\"{image_path.stem}_{j:04d}.png\"\n",
    "            mask_patch_path = mask_patches_dir / f\"{image_path.stem}_{j:04d}.png\"\n",
    "            write_image(image_patch_path, image_patch)\n",
    "            write_mask(str(mask_patch_path), mask_patch)\n",
    "\n",
    "    images_dir = fold_dir / \"val\" / \"images\"\n",
    "    masks_dir = fold_dir / \"val\" / \"masks\"\n",
    "    patches_dir = fold_dir / \"val\" / \"patches\"\n",
    "    image_patches_dir = patches_dir / \"images\"\n",
    "    mask_patches_dir = patches_dir / \"masks\"\n",
    "    image_patches_dir.mkdir(parents=True, exist_ok=True)\n",
    "    mask_patches_dir.mkdir(parents=True, exist_ok=True)\n",
    "\n",
    "    sorted_images = sorted(images_dir.iterdir())\n",
    "    for image_path in tqdm(\n",
    "        sorted_images, desc=f\"Extracting validation patches for fold {i}\"\n",
    "    ):\n",
    "        image = read_image(image_path)\n",
    "        mask = read_mask(masks_dir / image_path.name)\n",
    "        image_patches = extract_patches(image, 224, 56)\n",
    "        mask_patches = extract_patches(mask, 224, 56)\n",
    "        for j, (image_patch, mask_patch) in enumerate(zip(image_patches, mask_patches)):\n",
    "            image_patch_path = image_patches_dir / f\"{image_path.stem}_{j:04d}.png\"\n",
    "            mask_patch_path = mask_patches_dir / f\"{image_path.stem}_{j:04d}.png\"\n",
    "            write_image(image_patch_path, image_patch)\n",
    "            write_mask(str(mask_patch_path), mask_patch)\n"
   ]
  },
  {
   "attachments": {},
   "cell_type": "markdown",
   "metadata": {},
   "source": [
    "## Test"
   ]
  },
  {
   "cell_type": "code",
   "execution_count": 14,
   "metadata": {},
   "outputs": [
    {
     "name": "stdout",
     "output_type": "stream",
     "text": [
      "The history saving thread hit an unexpected error (OperationalError('attempt to write a readonly database')).History will not be written to the database.\n"
     ]
    },
    {
     "data": {
      "application/vnd.jupyter.widget-view+json": {
       "model_id": "4a5c63641536460b849886c30b931096",
       "version_major": 2,
       "version_minor": 0
      },
      "text/plain": [
       "Creating test images:   0%|          | 0/5 [00:00<?, ?it/s]"
      ]
     },
     "metadata": {},
     "output_type": "display_data"
    }
   ],
   "source": [
    "target_dir = Path(\"/data/histopathology/TCGA/reconstructed\")\n",
    "dset_dir = Path(\"/data/histopathology/TCGA/\")\n",
    "\n",
    "patches_dir = dset_dir / \"patches\"\n",
    "masks_dir = dset_dir / \"masks\"\n",
    "\n",
    "# In the patches directory are more directories and in the masks directory are png files.\n",
    "patches_dirs = sorted(patches_dir.iterdir())\n",
    "masks_paths = sorted(masks_dir.iterdir())\n",
    "\n",
    "column_names = [\n",
    "    \"sample_id\",\n",
    "    \"source_patches_dir\",\n",
    "    \"source_mask_path\",\n",
    "    \"target_image_path\",\n",
    "    \"target_mask_path\",\n",
    "]\n",
    "\n",
    "test_dir = target_dir / \"test\"\n",
    "test_images_dir = test_dir / \"images\"\n",
    "test_masks_dir = test_dir / \"masks\"\n",
    "test_images_dir.mkdir(parents=True, exist_ok=True)\n",
    "test_masks_dir.mkdir(parents=True, exist_ok=True)\n",
    "test_fold_dict = {col: [] for col in column_names}\n",
    "\n",
    "for sample_id in tqdm(test_sample_ids, desc=\"Creating test images\"):\n",
    "    # Read the sources patches and masks.\n",
    "    sample_patches_paths = sorted((patches_dir / sample_id).iterdir())\n",
    "    sample_mask_path = masks_dir / f\"{sample_id}_mask.png\"\n",
    "    assert not sample_mask_path.exists()\n",
    "\n",
    "    # Create the reconstructed images and masks.\n",
    "    reconstructed_sample_image_path = test_images_dir / f\"{sample_id}_reconstructed.png\"\n",
    "    create_and_save_images_for_sample(\n",
    "        reconstructed_sample_image_path,\n",
    "        sample_patches_paths,\n",
    "    )\n",
    "\n",
    "    # Append to the fold dict.\n",
    "    test_fold_dict[\"sample_id\"].append(sample_id)\n",
    "    test_fold_dict[\"source_patches_dir\"].append(str(patches_dir / sample_id))\n",
    "    test_fold_dict[\"source_mask_path\"].append(None)\n",
    "    test_fold_dict[\"target_image_path\"].append(str(reconstructed_sample_image_path))\n",
    "    test_fold_dict[\"target_mask_path\"].append(None)\n",
    "\n",
    "# Save the fold dicts as csv files.\n",
    "test_fold_df = pd.DataFrame(test_fold_dict)\n",
    "test_fold_df.to_csv(test_dir / \"test.csv\", index=False)\n"
   ]
  },
  {
   "attachments": {},
   "cell_type": "markdown",
   "metadata": {},
   "source": [
    "# Create a TFRecord file"
   ]
  },
  {
   "attachments": {},
   "cell_type": "markdown",
   "metadata": {},
   "source": [
    "## Functions"
   ]
  },
  {
   "cell_type": "code",
   "execution_count": 4,
   "metadata": {},
   "outputs": [],
   "source": [
    "def get_paths_from_directory(\n",
    "    directory: Union[str, Path]\n",
    ") -> Tuple[np.ndarray, np.ndarray]:\n",
    "    \"\"\"Get data from directory.\n",
    "\n",
    "    Args:\n",
    "        directory (Union[str, Path]): Directory to get data from.\n",
    "\n",
    "    Returns:\n",
    "        Tuple[np.ndarray, np.ndarray]: Tuple of data and labels.\n",
    "    \"\"\"\n",
    "\n",
    "    if isinstance(directory, str):\n",
    "        directory = Path(directory)\n",
    "\n",
    "    images_dir = directory / \"images\"\n",
    "    labels_dir = directory / \"masks\"\n",
    "    assert images_dir.is_dir() and labels_dir.is_dir()\n",
    "    images_path = sorted(images_dir.iterdir())\n",
    "    labels_path = sorted(labels_dir.iterdir())\n",
    "\n",
    "    return images_path, labels_path\n",
    "\n",
    "\n",
    "def _bytes_feature(value):\n",
    "    \"\"\"Returns a bytes_list from a string / byte.\"\"\"\n",
    "    if isinstance(value, type(tf.constant(0))):\n",
    "        value = value.numpy()  # BytesList won't unpack a string from an EagerTensor.\n",
    "    elif isinstance(value, str):\n",
    "        value = value.encode(\"utf-8\")\n",
    "    return tf.train.Feature(bytes_list=tf.train.BytesList(value=[value]))\n",
    "\n",
    "\n",
    "def _int64_feature(value):\n",
    "    \"\"\"Returns an int64_list from a bool / enum / int / uint.\"\"\"\n",
    "    value = [value] if isinstance(value, int) else value\n",
    "    return tf.train.Feature(int64_list=tf.train.Int64List(value=value))\n",
    "\n",
    "\n",
    "def serialize_example(image, mask):\n",
    "    feature = {\n",
    "        \"image\": _bytes_feature(tf.io.serialize_tensor(image)),\n",
    "        \"image_shape\": _int64_feature(list(image.shape)),\n",
    "        \"mask\": _bytes_feature(tf.io.serialize_tensor(mask)),\n",
    "        \"mask_shape\": _int64_feature(list(mask.shape) + [1]),\n",
    "    }\n",
    "    example_proto = tf.train.Example(features=tf.train.Features(feature=feature))\n",
    "    return example_proto.SerializeToString()\n",
    "\n",
    "\n",
    "def shuffle_data_and_labels(data_paths, labels_paths, seed=2341):\n",
    "    np.random.seed(seed)\n",
    "\n",
    "    indices = np.arange(len(data_paths))\n",
    "    np.random.shuffle(indices)\n",
    "\n",
    "    data_paths = np.array(data_paths)[indices].tolist()\n",
    "    labels_paths = np.array(labels_paths)[indices].tolist()\n",
    "\n",
    "    return data_paths, labels_paths\n"
   ]
  },
  {
   "attachments": {},
   "cell_type": "markdown",
   "metadata": {},
   "source": [
    "## TFRecord"
   ]
  },
  {
   "cell_type": "code",
   "execution_count": 5,
   "metadata": {},
   "outputs": [],
   "source": [
    "dset_dir = Path(\"/data/histopathology/TCGA/reconstructed/fold0\")\n",
    "train_dir = dset_dir / \"train/patches\"\n",
    "val_dir = dset_dir / \"val/patches\"\n",
    "\n",
    "data_paths, labels_paths = get_paths_from_directory(train_dir)\n",
    "\n",
    "# Shuffle the data to avoid using shuffle_buffer to conserve memory.\n",
    "np.random.seed(2341)\n",
    "indices = np.arange(len(data_paths))\n",
    "np.random.shuffle(indices)\n",
    "\n",
    "data_paths = np.array(data_paths)[indices].tolist()\n",
    "labels_paths = np.array(labels_paths)[indices].tolist()\n"
   ]
  },
  {
   "cell_type": "code",
   "execution_count": null,
   "metadata": {},
   "outputs": [
    {
     "name": "stdout",
     "output_type": "stream",
     "text": [
      "Creating the TFRecord for fold 0\n"
     ]
    },
    {
     "name": "stderr",
     "output_type": "stream",
     "text": [
      "2023-07-03 07:35:59.135516: E tensorflow/compiler/xla/stream_executor/cuda/cuda_driver.cc:266] failed call to cuInit: CUDA_ERROR_INVALID_DEVICE: invalid device ordinal\n",
      "2023-07-03 07:35:59.135555: I tensorflow/compiler/xla/stream_executor/cuda/cuda_diagnostics.cc:168] retrieving CUDA diagnostic information for host: 1660b6c49a51\n",
      "2023-07-03 07:35:59.135561: I tensorflow/compiler/xla/stream_executor/cuda/cuda_diagnostics.cc:175] hostname: 1660b6c49a51\n",
      "2023-07-03 07:35:59.135708: I tensorflow/compiler/xla/stream_executor/cuda/cuda_diagnostics.cc:199] libcuda reported version is: NOT_FOUND: was unable to find libcuda.so DSO loaded into this program\n",
      "2023-07-03 07:35:59.135729: I tensorflow/compiler/xla/stream_executor/cuda/cuda_diagnostics.cc:203] kernel reported version is: 525.105.17\n"
     ]
    }
   ],
   "source": [
    "# Write the paths to a TFRecord file.\n",
    "tfrecords_dir = Path().absolute().parent / \"data\"\n",
    "tfrecords_dset_dir = tfrecords_dir / \"TCGA_patches_224_56\"\n",
    "tfrecords_dset_dir.mkdir(exist_ok=True, parents=True)\n",
    "\n",
    "for i in range(5):\n",
    "    print(\"Creating the TFRecord for fold\", i)\n",
    "\n",
    "    # Source directories.\n",
    "    dset_dir = Path(f\"/data/histopathology/TCGA/reconstructed/fold{i}\")\n",
    "    train_dir = dset_dir / \"train/patches\"\n",
    "    val_dir = dset_dir / \"val/patches\"\n",
    "    train_data_paths, train_labels_paths = get_paths_from_directory(train_dir)\n",
    "    train_data_paths, train_labels_paths = shuffle_data_and_labels(\n",
    "        train_data_paths, train_labels_paths, seed=i\n",
    "    )\n",
    "    val_data_paths, val_labels_paths = get_paths_from_directory(val_dir)\n",
    "    val_data_paths, val_labels_paths = shuffle_data_and_labels(\n",
    "        val_data_paths, val_labels_paths, seed=i\n",
    "    )\n",
    "\n",
    "    # TFRecords creation.\n",
    "    train_tfrecord_path = str(tfrecords_dset_dir / f\"fold{i}_train.tfrecord\")\n",
    "    with tf.io.TFRecordWriter(train_tfrecord_path) as writer:\n",
    "        for idx, (data_path, label_path) in enumerate(\n",
    "            zip(train_data_paths, train_labels_paths)\n",
    "        ):\n",
    "            image = read_image(data_path)\n",
    "            mask = read_mask(label_path)\n",
    "            serialized_features = serialize_example(image, mask)\n",
    "            writer.write(serialized_features)\n",
    "\n",
    "    val_tfrecord_path = str(tfrecords_dset_dir / f\"fold{i}_val.tfrecord\")\n",
    "    with tf.io.TFRecordWriter(val_tfrecord_path) as writer:\n",
    "        for idx, (data_path, label_path) in enumerate(\n",
    "            zip(val_data_paths, val_labels_paths)\n",
    "        ):\n",
    "            image = read_image(data_path)\n",
    "            mask = read_mask(label_path)\n",
    "            serialized_features = serialize_example(image, mask)\n",
    "            writer.write(serialized_features)\n"
   ]
  },
  {
   "cell_type": "code",
   "execution_count": 60,
   "metadata": {},
   "outputs": [
    {
     "name": "stderr",
     "output_type": "stream",
     "text": [
      "2023-07-02 18:34:24.327459: I tensorflow/core/common_runtime/executor.cc:1197] [/device:CPU:0] (DEBUG INFO) Executor start aborting (this does not indicate an error and you can ignore this message): INVALID_ARGUMENT: You must feed a value for placeholder tensor 'Placeholder/_0' with dtype string and shape [1]\n",
      "\t [[{{node Placeholder/_0}}]]\n"
     ]
    },
    {
     "data": {
      "image/png": "[encoded data removed]",
      "text/plain": [
       "<Figure size 640x480 with 1 Axes>"
      ]
     },
     "metadata": {},
     "output_type": "display_data"
    }
   ],
   "source": [
    "feature_desc = {\n",
    "    \"image\": tf.io.FixedLenFeature([], tf.string),\n",
    "    \"image_shape\": tf.io.FixedLenFeature([3], tf.int64),\n",
    "    \"mask\": tf.io.FixedLenFeature([], tf.string),\n",
    "    \"mask_shape\": tf.io.FixedLenFeature([3], tf.int64),\n",
    "}\n",
    "\n",
    "\n",
    "def parse_example(example_proto):\n",
    "    example = tf.io.parse_single_example(example_proto, feature_desc)\n",
    "    image = tf.io.parse_tensor(example[\"image\"], tf.float32)\n",
    "    image = tf.reshape(image, example[\"image_shape\"])\n",
    "    mask = tf.io.parse_tensor(example[\"mask\"], tf.float32)\n",
    "    mask = tf.reshape(mask, example[\"mask_shape\"])\n",
    "    return image, mask\n",
    "\n",
    "\n",
    "tfrecord = tf.data.TFRecordDataset(\n",
    "    \"/home/sangohe/projects/pathology/data/TCGA_patches_224_56/fold0_train.tfrecord\"\n",
    ")\n",
    "dset = tfrecord.map(parse_example)\n",
    "\n",
    "for image, mask in dset:\n",
    "    if np.count_nonzero(mask.numpy()) > 0:\n",
    "        break\n",
    "\n",
    "plt.imshow(image.numpy().astype(np.uint8))\n",
    "plt.imshow(mask.numpy().astype(np.uint8), alpha=0.5)\n",
    "plt.title(\n",
    "    f\"Image: [{image.numpy().min()} - {image.numpy().max()}], \"\n",
    "    f\"Mask: [{mask.numpy().min()} - {mask.numpy().max()}]\"\n",
    ")\n",
    "plt.show()\n"
   ]
  },
  {
   "attachments": {},
   "cell_type": "markdown",
   "metadata": {},
   "source": [
    "# Functions to rename all the paths"
   ]
  },
  {
   "cell_type": "code",
   "execution_count": null,
   "metadata": {},
   "outputs": [],
   "source": [
    "def rename_path(path):\n",
    "    patch_num = path.stem.split(\"_\")[-1]\n",
    "    new_filename = path.name.replace(f\"{patch_num}.png\", f\"{int(patch_num):04d}.png\")\n",
    "    path.rename(path.parent / new_filename)\n",
    "    return path.parent / new_filename\n",
    "\n",
    "\n",
    "def rename_paths_from_dir(dir_):\n",
    "    masks_patches_paths = sorted(dir_.iterdir())\n",
    "    for mask_patch_path in masks_patches_paths:\n",
    "        rename_path(mask_patch_path)\n",
    "        \n",
    "\n",
    "for i in range(5):\n",
    "    pass\n",
    "\n",
    "    dset_dir = Path(f\"/data/histopathology/TCGA/reconstructed/fold{i}/\")\n",
    "    print(dset_dir)\n",
    "    train_csv_path = dset_dir / \"train.csv\"\n",
    "    val_csv_path = dset_dir / \"val.csv\"\n",
    "\n",
    "    masks_dir = dset_dir / \"train\" / \"patches\" / \"masks\"\n",
    "    images_dir = dset_dir / \"train\" / \"patches\" / \"images\"\n",
    "    assert masks_dir.is_dir() and images_dir.is_dir()\n",
    "\n",
    "    rename_paths_from_dir(images_dir)\n",
    "    rename_paths_from_dir(masks_dir)\n"
   ]
  }
 ],
 "metadata": {
  "kernelspec": {
   "display_name": "Python 3 (ipykernel)",
   "language": "python",
   "name": "python3"
  },
  "language_info": {
   "codemirror_mode": {
    "name": "ipython",
    "version": 3
   },
   "file_extension": ".py",
   "mimetype": "text/x-python",
   "name": "python",
   "nbconvert_exporter": "python",
   "pygments_lexer": "ipython3",
   "version": "3.8.10"
  }
 },
 "nbformat": 4,
 "nbformat_minor": 4
}
